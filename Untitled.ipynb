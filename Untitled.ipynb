{
 "cells": [
  {
   "cell_type": "markdown",
   "id": "489e6cfb-f878-4602-831f-dc8b8580ca85",
   "metadata": {},
   "source": [
    "My Jupyter Notebook on IBM Watson Studio"
   ]
  },
  {
   "cell_type": "markdown",
   "id": "3b152940-2056-420e-9909-503fee17753e",
   "metadata": {},
   "source": [
    "**Anand Kumar Karn** \n",
    "Data Science "
   ]
  },
  {
   "cell_type": "markdown",
   "id": "27e273dc-ef3a-422d-be05-3f8218d8ca07",
   "metadata": {
    "tags": []
   },
   "source": [
    "*I am interested in data science because it is very interesting profile.*"
   ]
  },
  {
   "cell_type": "markdown",
   "id": "4a78fe15-3fdb-4c35-b72c-6c6462b43a9a",
   "metadata": {},
   "source": [
    "### Print Hello World "
   ]
  },
  {
   "cell_type": "code",
   "execution_count": 3,
   "id": "87abc3a5-9ea1-430f-81e4-c1cf32ced63f",
   "metadata": {},
   "outputs": [
    {
     "name": "stdout",
     "output_type": "stream",
     "text": [
      "Hello World\n"
     ]
    }
   ],
   "source": [
    "print(\"Hello World\")"
   ]
  },
  {
   "cell_type": "markdown",
   "id": "57a56246-23a4-4328-9453-5b477bce9999",
   "metadata": {},
   "source": [
    "*************"
   ]
  },
  {
   "cell_type": "code",
   "execution_count": null,
   "id": "d3108eb4-3b33-4f8d-889d-90dabf93feda",
   "metadata": {},
   "outputs": [],
   "source": []
  }
 ],
 "metadata": {
  "kernelspec": {
   "display_name": "Python",
   "language": "python",
   "name": "conda-env-python-py"
  },
  "language_info": {
   "codemirror_mode": {
    "name": "ipython",
    "version": 3
   },
   "file_extension": ".py",
   "mimetype": "text/x-python",
   "name": "python",
   "nbconvert_exporter": "python",
   "pygments_lexer": "ipython3",
   "version": "3.7.12"
  }
 },
 "nbformat": 4,
 "nbformat_minor": 5
}
